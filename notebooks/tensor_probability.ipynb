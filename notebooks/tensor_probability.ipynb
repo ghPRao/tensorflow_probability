{
 "cells": [
  {
   "cell_type": "markdown",
   "metadata": {},
   "source": [
    "# Tensorflow Probability\n",
    "\n",
    "This notebook is a practice of the concepts  from \"A Tour of TensorFlow Probability\"\n",
    "\n",
    "# Ref: A Tour of TensorFlow Probability\n",
    "\n",
    "<table class=\"tfo-notebook-buttons\" align=\"left\">\n",
    "  <td>\n",
    "    <a target=\"_blank\" href=\"https://www.tensorflow.org/probability/examples/A_Tour_of_TensorFlow_Probability\"><img src=\"https://www.tensorflow.org/images/tf_logo_32px.png\" />View on TensorFlow.org</a>\n",
    "  </td>\n",
    "  <td>\n",
    "    <a target=\"_blank\" href=\"https://colab.research.google.com/github/tensorflow/probability/blob/master/tensorflow_probability/examples/jupyter_notebooks/A_Tour_of_TensorFlow_Probability.ipynb\"><img src=\"https://www.tensorflow.org/images/colab_logo_32px.png\" />Run in Google Colab</a>\n",
    "  </td>\n",
    "  <td>\n",
    "    <a target=\"_blank\" href=\"https://github.com/tensorflow/probability/blob/master/tensorflow_probability/examples/jupyter_notebooks/A_Tour_of_TensorFlow_Probability.ipynb\"><img src=\"https://www.tensorflow.org/images/GitHub-Mark-32px.png\" />View source on GitHub</a>\n",
    "  </td>\n",
    "  <td>\n",
    "    <a href=\"https://storage.googleapis.com/tensorflow_docs/probability/tensorflow_probability/examples/jupyter_notebooks/A_Tour_of_TensorFlow_Probability.ipynb\"><img src=\"https://www.tensorflow.org/images/download_logo_32px.png\" />Download notebook</a>\n",
    "  </td>\n",
    "</table>"
   ]
  },
  {
   "cell_type": "markdown",
   "metadata": {},
   "source": [
    "## Dependencies & Prerequisites"
   ]
  },
  {
   "cell_type": "code",
   "execution_count": 1,
   "metadata": {},
   "outputs": [],
   "source": [
    "from pprint import pprint\n",
    "import matplotlib.pyplot as plt\n",
    "import numpy as np\n",
    "import seaborn as sns\n",
    "\n",
    "import tensorflow.compat.v2 as tf\n",
    "tf.enable_v2_behavior()\n",
    "\n",
    "import tensorflow_probability as tfp\n",
    "\n",
    "sns.reset_defaults()\n",
    "sns.set_context(context='talk',font_scale=0.7)\n",
    "plt.rcParams['image.cmap'] = 'viridis'\n",
    "\n",
    "%matplotlib inline\n",
    "\n",
    "tfd = tfp.distributions\n",
    "tfb = tfp.bijectors"
   ]
  },
  {
   "cell_type": "code",
   "execution_count": 2,
   "metadata": {},
   "outputs": [],
   "source": [
    "def print_subclasses_from_module(module, base_class, maxwidth=80):\n",
    "  import functools, inspect, sys\n",
    "  subclasses = [name for name, obj in inspect.getmembers(module)\n",
    "                if inspect.isclass(obj) and issubclass(obj, base_class)]\n",
    "  def red(acc, x):\n",
    "    if not acc or len(acc[-1]) + len(x) + 2 > maxwidth:\n",
    "      acc.append(x)\n",
    "    else:\n",
    "      acc[-1] += \", \" + x\n",
    "    return acc\n",
    "  print('\\n'.join(functools.reduce(red, subclasses, [])))"
   ]
  },
  {
   "cell_type": "code",
   "execution_count": 3,
   "metadata": {},
   "outputs": [
    {
     "name": "stdout",
     "output_type": "stream",
     "text": [
      "181 ms ± 2.1 ms per loop (mean ± std. dev. of 7 runs, 1 loop each)\n",
      "531 µs ± 6.55 µs per loop (mean ± std. dev. of 7 runs, 1000 loops each)\n"
     ]
    }
   ],
   "source": [
    "mats = tf.random.uniform(shape=[1000, 10, 10])\n",
    "vecs = tf.random.uniform(shape=[1000, 10, 1])\n",
    "\n",
    "def for_loop_solve():\n",
    "  return np.array(\n",
    "    [tf.linalg.solve(mats[i, ...], vecs[i, ...]) for i in range(1000)])\n",
    "\n",
    "def vectorized_solve():\n",
    "  return tf.linalg.solve(mats, vecs)\n",
    "\n",
    "# Vectorization for the win!\n",
    "%timeit for_loop_solve()\n",
    "%timeit vectorized_solve()"
   ]
  },
  {
   "cell_type": "code",
   "execution_count": 4,
   "metadata": {},
   "outputs": [
    {
     "name": "stdout",
     "output_type": "stream",
     "text": [
      "Using a CPU\n"
     ]
    }
   ],
   "source": [
    "if tf.test.gpu_device_name() == '/device:GPU:0':\n",
    "  print(\"Using a GPU\")\n",
    "else:\n",
    "  print(\"Using a CPU\")"
   ]
  },
  {
   "cell_type": "code",
   "execution_count": 5,
   "metadata": {},
   "outputs": [
    {
     "name": "stdout",
     "output_type": "stream",
     "text": [
      "tf.Tensor(3.1415927, shape=(), dtype=float32)\n",
      "tf.Tensor(2.7182817, shape=(), dtype=float32)\n"
     ]
    }
   ],
   "source": [
    "a = tf.constant(np.pi)\n",
    "b = tf.constant(np.e)\n",
    "with tf.GradientTape() as tape:\n",
    "  tape.watch([a, b])\n",
    "  c = .5 * (a**2 + b**2)\n",
    "grads = tape.gradient(c, [a, b])\n",
    "print(grads[0])\n",
    "print(grads[1])"
   ]
  },
  {
   "cell_type": "code",
   "execution_count": 6,
   "metadata": {},
   "outputs": [
    {
     "name": "stdout",
     "output_type": "stream",
     "text": [
      "tf.Tensor(3.1415927, shape=(), dtype=float32)\n",
      "tf.Tensor(2.7182817, shape=(), dtype=float32)\n"
     ]
    }
   ],
   "source": [
    "a = tf.constant(np.pi)\n",
    "b = tf.constant(np.e)\n",
    "with tf.GradientTape() as tape:\n",
    "    tape.watch([a,b])\n",
    "    c = .5 * (a**2 + b**2)\n",
    "grads = tape.gradient(c, [a,b])\n",
    "print(grads[0])\n",
    "print(grads[1])"
   ]
  },
  {
   "cell_type": "markdown",
   "metadata": {},
   "source": [
    "## Tensor Probability"
   ]
  },
  {
   "cell_type": "markdown",
   "metadata": {},
   "source": [
    "### Distributions\n",
    "A `tfp.distributions.Distribution` is a class with two core methods: `sample` and `log_prob`.\n",
    "\n",
    "TFP has a lot of distributions!"
   ]
  },
  {
   "cell_type": "code",
   "execution_count": 7,
   "metadata": {},
   "outputs": [
    {
     "name": "stdout",
     "output_type": "stream",
     "text": [
      "Autoregressive, BatchReshape, Bates, Bernoulli, Beta, BetaBinomial, Binomial\n",
      "Blockwise, Categorical, Cauchy, Chi, Chi2, CholeskyLKJ, ContinuousBernoulli\n",
      "Deterministic, Dirichlet, DirichletMultinomial, Distribution, DoublesidedMaxwell\n",
      "Empirical, ExpGamma, ExpInverseGamma, ExpRelaxedOneHotCategorical, Exponential\n",
      "ExponentiallyModifiedGaussian, FiniteDiscrete, Gamma, GammaGamma\n",
      "GaussianProcess, GaussianProcessRegressionModel, GeneralizedExtremeValue\n",
      "GeneralizedNormal, GeneralizedPareto, Geometric, Gumbel, HalfCauchy, HalfNormal\n",
      "HalfStudentT, HiddenMarkovModel, Horseshoe, Independent, InverseGamma\n",
      "InverseGaussian, JohnsonSU, JointDistribution, JointDistributionCoroutine\n",
      "JointDistributionCoroutineAutoBatched, JointDistributionNamed\n",
      "JointDistributionNamedAutoBatched, JointDistributionSequential\n",
      "JointDistributionSequentialAutoBatched, Kumaraswamy, LKJ, Laplace\n",
      "LinearGaussianStateSpaceModel, LogLogistic, LogNormal, Logistic, LogitNormal\n",
      "Mixture, MixtureSameFamily, Moyal, Multinomial, MultivariateNormalDiag\n",
      "MultivariateNormalDiagPlusLowRank, MultivariateNormalFullCovariance\n",
      "MultivariateNormalLinearOperator, MultivariateNormalTriL\n",
      "MultivariateStudentTLinearOperator, NegativeBinomial, Normal, OneHotCategorical\n",
      "OrderedLogistic, PERT, Pareto, PixelCNN, PlackettLuce, Poisson\n",
      "PoissonLogNormalQuadratureCompound, PowerSpherical, ProbitBernoulli\n",
      "QuantizedDistribution, RelaxedBernoulli, RelaxedOneHotCategorical, Sample\n",
      "SinhArcsinh, Skellam, SphericalUniform, StoppingRatioLogistic, StudentT\n",
      "StudentTProcess, TransformedDistribution, Triangular, TruncatedCauchy\n",
      "TruncatedNormal, Uniform, VariationalGaussianProcess, VectorDeterministic\n",
      "VectorExponentialDiag, VonMises, VonMisesFisher, Weibull, WishartLinearOperator\n",
      "WishartTriL, Zipf\n"
     ]
    }
   ],
   "source": [
    "print_subclasses_from_module(tfp.distributions, tfp.distributions.Distribution)"
   ]
  },
  {
   "cell_type": "code",
   "execution_count": 8,
   "metadata": {},
   "outputs": [
    {
     "name": "stdout",
     "output_type": "stream",
     "text": [
      "tfp.distributions.Normal(\"Normal\", batch_shape=[], event_shape=[], dtype=float32)\n"
     ]
    }
   ],
   "source": [
    "# A standard normal\n",
    "normal = tfd.Normal(loc=0., scale=1.)\n",
    "print(normal)"
   ]
  },
  {
   "cell_type": "code",
   "execution_count": 9,
   "metadata": {},
   "outputs": [
    {
     "name": "stderr",
     "output_type": "stream",
     "text": [
      "/Users/lalithap/anaconda3/envs/learn-env/lib/python3.8/site-packages/seaborn/distributions.py:2551: FutureWarning: `distplot` is a deprecated function and will be removed in a future version. Please adapt your code to use either `displot` (a figure-level function with similar flexibility) or `histplot` (an axes-level function for histograms).\n",
      "  warnings.warn(msg, FutureWarning)\n"
     ]
    },
    {
     "data": {
      "image/png": "[encoded data removed]",
      "text/plain": [
       "<Figure size 432x288 with 1 Axes>"
      ]
     },
     "metadata": {
      "needs_background": "light"
     },
     "output_type": "display_data"
    }
   ],
   "source": [
    "# Plot 1000 samples from a standard normal\n",
    "samples = normal.sample(1000)\n",
    "sns.distplot(samples)\n",
    "plt.title(\"Samples from a standard Normal\")\n",
    "plt.show()"
   ]
  },
  {
   "cell_type": "markdown",
   "metadata": {},
   "source": [
    "### Vectorization\n",
    "\n",
    "> Vectorization makes things fast!"
   ]
  },
  {
   "cell_type": "code",
   "execution_count": 10,
   "metadata": {},
   "outputs": [],
   "source": [
    "mats = tf.random.uniform(shape=[1000, 10, 10])\n",
    "vecs = tf"
   ]
  },
  {
   "cell_type": "code",
   "execution_count": 11,
   "metadata": {},
   "outputs": [
    {
     "data": {
      "text/plain": [
       "<tf.Tensor: shape=(), dtype=float32, numpy=-0.9189385>"
      ]
     },
     "execution_count": 11,
     "metadata": {},
     "output_type": "execute_result"
    }
   ],
   "source": [
    "# Compute the log_prob of a point in the event space of `normal`\n",
    "normal.log_prob(0.)"
   ]
  },
  {
   "cell_type": "code",
   "execution_count": 12,
   "metadata": {},
   "outputs": [
    {
     "data": {
      "text/plain": [
       "<tf.Tensor: shape=(3,), dtype=float32, numpy=array([-1.4189385, -0.9189385, -1.4189385], dtype=float32)>"
      ]
     },
     "execution_count": 12,
     "metadata": {},
     "output_type": "execute_result"
    }
   ],
   "source": [
    "# Compute the log_prob of a few points\n",
    "normal.log_prob([-1., 0., 1.])"
   ]
  },
  {
   "cell_type": "code",
   "execution_count": 13,
   "metadata": {},
   "outputs": [
    {
     "name": "stdout",
     "output_type": "stream",
     "text": [
      "Batch shape: (3,)\n",
      "Event shape: ()\n"
     ]
    }
   ],
   "source": [
    "# Create a batch of 3 normals, and plot 1000 samples from each\n",
    "normals = tfd.Normal([-2.5, 0., 2.5], 1.)  # The scale parameter broadacasts!\n",
    "print(\"Batch shape:\", normals.batch_shape)\n",
    "print(\"Event shape:\", normals.event_shape)"
   ]
  },
  {
   "cell_type": "code",
   "execution_count": 14,
   "metadata": {},
   "outputs": [
    {
     "name": "stdout",
     "output_type": "stream",
     "text": [
      "Shape of samples: (1000, 3)\n"
     ]
    }
   ],
   "source": [
    "# Samples' shapes go on the left!\n",
    "samples = normals.sample(1000)\n",
    "print(\"Shape of samples:\", samples.shape)"
   ]
  },
  {
   "cell_type": "code",
   "execution_count": 15,
   "metadata": {},
   "outputs": [
    {
     "name": "stdout",
     "output_type": "stream",
     "text": [
      "Shape of samples: (10, 10, 10, 3)\n"
     ]
    }
   ],
   "source": [
    "# Sample shapes can themselves be more complicated\n",
    "print(\"Shape of samples:\", normals.sample([10, 10, 10]).shape)"
   ]
  },
  {
   "cell_type": "code",
   "execution_count": 16,
   "metadata": {},
   "outputs": [
    {
     "name": "stdout",
     "output_type": "stream",
     "text": [
      "tf.Tensor([-0.9189385 -0.9189385 -0.9189385], shape=(3,), dtype=float32)\n"
     ]
    }
   ],
   "source": [
    "# A batch of normals gives a batch of log_probs\n",
    "print(normals.log_prob([-2.5, 0., 2.5]))"
   ]
  },
  {
   "cell_type": "code",
   "execution_count": 17,
   "metadata": {},
   "outputs": [
    {
     "name": "stdout",
     "output_type": "stream",
     "text": [
      "TFP error: Incompatible shapes: [200] vs. [3] [Op:SquaredDifference]\n"
     ]
    }
   ],
   "source": [
    "# Normal numpy-like broadcasting rules apply\n",
    "xs = np.linspace(-6, 6, 200)\n",
    "try:\n",
    "    normals.log_prob(xs)\n",
    "except Exception as e:\n",
    "    print(\"TFP error:\", e.message)"
   ]
  },
  {
   "cell_type": "code",
   "execution_count": 18,
   "metadata": {},
   "outputs": [
    {
     "name": "stdout",
     "output_type": "stream",
     "text": [
      "Numpy error: operands could not be broadcast together with shapes (200,) (3,) \n"
     ]
    }
   ],
   "source": [
    "# That fails for the same reason this does:\n",
    "try:\n",
    "  np.zeros(200) + np.zeros(3)\n",
    "except Exception as e:\n",
    "  print(\"Numpy error:\", e)"
   ]
  },
  {
   "cell_type": "code",
   "execution_count": 19,
   "metadata": {},
   "outputs": [
    {
     "name": "stdout",
     "output_type": "stream",
     "text": [
      "Broadcast shape: (200, 3)\n"
     ]
    }
   ],
   "source": [
    "# But this would work:\n",
    "a = np.zeros([200, 1]) + np.zeros(3)\n",
    "print(\"Broadcast shape:\", a.shape)"
   ]
  },
  {
   "cell_type": "code",
   "execution_count": 20,
   "metadata": {},
   "outputs": [
    {
     "name": "stdout",
     "output_type": "stream",
     "text": [
      "Broadcast log_prob shape: (200, 3)\n"
     ]
    }
   ],
   "source": [
    "xs = np.linspace(-6, 6, 200)[..., np.newaxis]\n",
    "# Check the shape xs.shape=> [200, 1]\n",
    "lps = normals.log_prob(xs)\n",
    "print(\"Broadcast log_prob shape:\", lps.shape)"
   ]
  },
  {
   "cell_type": "code",
   "execution_count": null,
   "metadata": {},
   "outputs": [],
   "source": []
  }
 ],
 "metadata": {
  "kernelspec": {
   "display_name": "Python 3",
   "language": "python",
   "name": "python3"
  },
  "language_info": {
   "codemirror_mode": {
    "name": "ipython",
    "version": 3
   },
   "file_extension": ".py",
   "mimetype": "text/x-python",
   "name": "python",
   "nbconvert_exporter": "python",
   "pygments_lexer": "ipython3",
   "version": "3.8.5"
  }
 },
 "nbformat": 4,
 "nbformat_minor": 4
}
